{
 "metadata": {
  "name": "",
  "signature": "sha256:f75a216549e6cb8ce6bbad5b31fe405ab5585d6731a4871a77d05305046befd8"
 },
 "nbformat": 3,
 "nbformat_minor": 0,
 "worksheets": [
  {
   "cells": [
    {
     "cell_type": "code",
     "collapsed": false,
     "input": [
      "from sklearn import tree\n",
      "from pandas import DataFrame, Series \n",
      "import pandas as pd\n",
      "import numpy as np\n",
      "import matplotlib.pyplot as plt\n",
      "from sklearn.model_selection import cross_val_score,GridSearchCV\n",
      "from sklearn.ensemble import RandomForestClassifier\n",
      "from datetime import datetime, timedelta"
     ],
     "language": "python",
     "metadata": {},
     "outputs": [],
     "prompt_number": 1
    },
    {
     "cell_type": "code",
     "collapsed": false,
     "input": [
      "iteracoes = [1,100,200,300,400,500,600,700,800,900,1000]"
     ],
     "language": "python",
     "metadata": {},
     "outputs": [],
     "prompt_number": 2
    },
    {
     "cell_type": "code",
     "collapsed": false,
     "input": [
      "columns = ['SepalLength', 'SepalWidth', 'PetalLength', 'PetalWidth', 'Class']"
     ],
     "language": "python",
     "metadata": {},
     "outputs": [],
     "prompt_number": 4
    },
    {
     "cell_type": "code",
     "collapsed": false,
     "input": [
      "df = pd.read_csv('iris.data.csv', names=columns)"
     ],
     "language": "python",
     "metadata": {},
     "outputs": [],
     "prompt_number": 7
    },
    {
     "cell_type": "code",
     "collapsed": false,
     "input": [
      "tempo_it = []\n",
      "scores_it = []"
     ],
     "language": "python",
     "metadata": {},
     "outputs": [],
     "prompt_number": 5
    },
    {
     "cell_type": "code",
     "collapsed": false,
     "input": [
      "features = df.columns.difference(['Class'])"
     ],
     "language": "python",
     "metadata": {},
     "outputs": [],
     "prompt_number": 8
    },
    {
     "cell_type": "code",
     "collapsed": false,
     "input": [
      "x = df[features].values\n",
      "y = df['Class'].values"
     ],
     "language": "python",
     "metadata": {},
     "outputs": [],
     "prompt_number": 9
    },
    {
     "cell_type": "code",
     "collapsed": false,
     "input": [
      "for it in iteracoes:\n",
      "    \n",
      "    tempos = []\n",
      "    scores = []\n",
      "    \n",
      "    for i in range(it):\n",
      "\n",
      "        t1 = datetime.now()\n",
      "\n",
      "        classifier_dt = tree.DecisionTreeClassifier()\n",
      "\n",
      "        score = cross_val_score(classifier_dt, x, y, scoring='accuracy', cv=10)\n",
      "\n",
      "        t2 = datetime.now()\n",
      "\n",
      "        if(t2.second-t1.second > 0):\n",
      "            tempos.append(float((t2.second-t1.second)*(10**6) + t2.microsecond-t1.microsecond)/1000)\n",
      "        else:\n",
      "            tempos.append(float(t2.microsecond-t1.microsecond)/1000)\n",
      "\n",
      "        scores.append(score.mean()*100)\n",
      "        \n",
      "    scores_it.append(np.mean(scores))\n",
      "    tempo_it.append(np.mean(tempos))"
     ],
     "language": "python",
     "metadata": {},
     "outputs": [],
     "prompt_number": 13
    },
    {
     "cell_type": "code",
     "collapsed": false,
     "input": [
      "plt.plot(np.float64(iteracoes),scores_it)\n",
      "\n",
      "plt.xlabel('Iteracoes')\n",
      "plt.ylabel('Pontuacoes (%)')\n",
      "\n",
      "plt.grid(True)\n",
      "\n",
      "plt.savefig('pontuacao_por_N_iteracoes.png')\n",
      "\n",
      "plt"
     ],
     "language": "python",
     "metadata": {},
     "outputs": [
      {
       "metadata": {},
       "output_type": "pyout",
       "prompt_number": 23,
       "text": [
        "<module 'matplotlib.pyplot' from '/usr/lib/python2.7/dist-packages/matplotlib/pyplot.pyc'>"
       ]
      }
     ],
     "prompt_number": 23
    },
    {
     "cell_type": "code",
     "collapsed": false,
     "input": [
      "plt.plot(np.float64(iteracoes),tempo_it)\n",
      "\n",
      "plt.xlabel('Iteracoes')\n",
      "plt.ylabel('Tempo (ms)')\n",
      "\n",
      "plt.grid(True)\n",
      "\n",
      "plt.savefig('tempo_por_N_iteracoes.png')\n",
      "\n",
      "plt"
     ],
     "language": "python",
     "metadata": {},
     "outputs": [
      {
       "metadata": {},
       "output_type": "pyout",
       "prompt_number": 22,
       "text": [
        "<module 'matplotlib.pyplot' from '/usr/lib/python2.7/dist-packages/matplotlib/pyplot.pyc'>"
       ]
      }
     ],
     "prompt_number": 22
    }
   ],
   "metadata": {}
  }
 ]
}