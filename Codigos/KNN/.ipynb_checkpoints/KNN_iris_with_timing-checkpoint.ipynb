{
 "metadata": {
  "name": "",
  "signature": "sha256:77d3b69ac63e1e16a00e3aa8314ec9819e6f6cbef31a4ac45fc41a0a2c76e80b"
 },
 "nbformat": 3,
 "nbformat_minor": 0,
 "worksheets": [
  {
   "cells": [
    {
     "cell_type": "code",
     "collapsed": false,
     "input": [
      "from pandas import DataFrame, Series \n",
      "import pandas as pd\n",
      "import numpy as np\n",
      "import matplotlib.pyplot as plt\n",
      "from sklearn.model_selection import cross_val_score\n",
      "from sklearn import neighbors\n",
      "from datetime import datetime"
     ],
     "language": "python",
     "metadata": {},
     "outputs": [],
     "prompt_number": 2
    },
    {
     "cell_type": "code",
     "collapsed": false,
     "input": [
      "tempo = []\n",
      "scores = []"
     ],
     "language": "python",
     "metadata": {},
     "outputs": [],
     "prompt_number": 3
    },
    {
     "cell_type": "code",
     "collapsed": false,
     "input": [
      "columns = ['SepalLength', 'SepalWidth', 'PetalLength', 'PetalWidth', 'Class']"
     ],
     "language": "python",
     "metadata": {},
     "outputs": [],
     "prompt_number": 4
    },
    {
     "cell_type": "code",
     "collapsed": false,
     "input": [
      "df = pd.read_csv('iris.data.csv',names=columns)"
     ],
     "language": "python",
     "metadata": {},
     "outputs": [],
     "prompt_number": 5
    },
    {
     "cell_type": "code",
     "collapsed": false,
     "input": [
      "features = df.columns.difference(['Class'])"
     ],
     "language": "python",
     "metadata": {},
     "outputs": [],
     "prompt_number": 6
    },
    {
     "cell_type": "code",
     "collapsed": false,
     "input": [
      "x = df[features].values\n",
      "y = df['Class'].values"
     ],
     "language": "python",
     "metadata": {},
     "outputs": [],
     "prompt_number": 7
    },
    {
     "cell_type": "code",
     "collapsed": false,
     "input": [
      "for i in range(1000):\n",
      "    t1 = datetime.now()\n",
      "\n",
      "    knn = neighbors.KNeighborsClassifier(15,weights='distance')\n",
      "    score = cross_val_score(knn, x, y, scoring='accuracy', cv=10)\n",
      "\n",
      "    t2 = datetime.now()\n",
      "\n",
      "    if(t2.second-t1.second > 0):\n",
      "        tempo.append(float((t2.second-t1.second)*(10**6) + t2.microsecond-t1.microsecond)/1000)\n",
      "    else:\n",
      "        tempo.append(float(t2.microsecond-t1.microsecond)/1000)\n",
      "    \n",
      "    scores.append(score.mean()*100)"
     ],
     "language": "python",
     "metadata": {},
     "outputs": [],
     "prompt_number": 9
    },
    {
     "cell_type": "code",
     "collapsed": false,
     "input": [
      "'%dms' %np.mean(tempo)"
     ],
     "language": "python",
     "metadata": {},
     "outputs": [
      {
       "metadata": {},
       "output_type": "pyout",
       "prompt_number": 10,
       "text": [
        "'25ms'"
       ]
      }
     ],
     "prompt_number": 10
    },
    {
     "cell_type": "code",
     "collapsed": false,
     "input": [
      "'%.2f' %np.mean(scores) + '%'"
     ],
     "language": "python",
     "metadata": {},
     "outputs": [
      {
       "metadata": {},
       "output_type": "pyout",
       "prompt_number": 11,
       "text": [
        "'98.00%'"
       ]
      }
     ],
     "prompt_number": 11
    }
   ],
   "metadata": {}
  }
 ]
}