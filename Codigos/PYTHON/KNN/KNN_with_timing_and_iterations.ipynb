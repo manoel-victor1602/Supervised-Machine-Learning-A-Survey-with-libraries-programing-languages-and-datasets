{
 "metadata": {
  "name": "",
  "signature": "sha256:71bdf911f5479e1e172367677b9fc77fda81dab959a5477b38489104646ce10a"
 },
 "nbformat": 3,
 "nbformat_minor": 0,
 "worksheets": [
  {
   "cells": [
    {
     "cell_type": "code",
     "collapsed": false,
     "input": [
      "from sklearn import neighbors\n",
      "from pandas import DataFrame, Series \n",
      "import pandas as pd\n",
      "import numpy as np\n",
      "import matplotlib.pyplot as plt\n",
      "from sklearn.model_selection import cross_val_score,GridSearchCV\n",
      "from sklearn.ensemble import RandomForestClassifier\n",
      "from datetime import datetime, timedelta"
     ],
     "language": "python",
     "metadata": {},
     "outputs": [],
     "prompt_number": 3
    },
    {
     "cell_type": "code",
     "collapsed": false,
     "input": [
      "iteracoes = [1,100,200,300,400,500,600,700,800,900,1000]"
     ],
     "language": "python",
     "metadata": {},
     "outputs": [],
     "prompt_number": 5
    },
    {
     "cell_type": "code",
     "collapsed": false,
     "input": [
      "tempo_it = []\n",
      "scores_it = []"
     ],
     "language": "python",
     "metadata": {},
     "outputs": [],
     "prompt_number": 6
    },
    {
     "cell_type": "code",
     "collapsed": false,
     "input": [
      "columns = ['SepalLength', 'SepalWidth', 'PetalLength', 'PetalWidth', 'Class']"
     ],
     "language": "python",
     "metadata": {},
     "outputs": [],
     "prompt_number": 7
    },
    {
     "cell_type": "code",
     "collapsed": false,
     "input": [
      "df = pd.read_csv('iris.data.csv', names=columns)"
     ],
     "language": "python",
     "metadata": {},
     "outputs": [],
     "prompt_number": 8
    },
    {
     "cell_type": "code",
     "collapsed": false,
     "input": [
      "features = df.columns.difference(['Class'])"
     ],
     "language": "python",
     "metadata": {},
     "outputs": [],
     "prompt_number": 9
    },
    {
     "cell_type": "code",
     "collapsed": false,
     "input": [
      "x = df[features].values\n",
      "y = df['Class'].values"
     ],
     "language": "python",
     "metadata": {},
     "outputs": [],
     "prompt_number": 10
    },
    {
     "cell_type": "code",
     "collapsed": false,
     "input": [
      "for it in iteracoes:\n",
      "    \n",
      "    tempo = []\n",
      "    scores = []\n",
      "    \n",
      "    for i in range(it):\n",
      "        \n",
      "        t1 = datetime.now()\n",
      "        \n",
      "        knn = neighbors.KNeighborsClassifier(15, weights='distance')\n",
      "        score = cross_val_score(knn, x, y, scoring='accuracy', cv=10)\n",
      "        \n",
      "        t2 = datetime.now()\n",
      "        \n",
      "        if(t2.second-t1.second > 0):\n",
      "            tempo.append(float((t2.second-t1.second)*(10**6) + t2.microsecond-t1.microsecond)/1000)\n",
      "        else:\n",
      "            tempo.append(float(t2.microsecond-t1.microsecond)/1000)\n",
      "    \n",
      "        scores.append(score.mean()*100)\n",
      "    \n",
      "    scores_it.append(np.mean(scores))\n",
      "    tempo_it.append(np.mean(tempo))"
     ],
     "language": "python",
     "metadata": {},
     "outputs": [],
     "prompt_number": 11
    },
    {
     "cell_type": "code",
     "collapsed": false,
     "input": [
      "plt.plot(np.float64(iteracoes), scores_it)\n",
      "\n",
      "plt.xlabel('Iteracoes')\n",
      "plt.ylabel('Pontuacoes (%)')\n",
      "\n",
      "plt.grid(True)\n",
      "\n",
      "plt.savefig('pontuacao_por_N_iteracoes')\n",
      "\n",
      "plt"
     ],
     "language": "python",
     "metadata": {},
     "outputs": [
      {
       "metadata": {},
       "output_type": "pyout",
       "prompt_number": 12,
       "text": [
        "<module 'matplotlib.pyplot' from '/usr/lib/python2.7/dist-packages/matplotlib/pyplot.pyc'>"
       ]
      }
     ],
     "prompt_number": 12
    },
    {
     "cell_type": "code",
     "collapsed": false,
     "input": [
      "plt.plot(np.float64(iteracoes), tempo_it)\n",
      "\n",
      "plt.xlabel('Iteracoes')\n",
      "plt.ylabel('Tempo (ms)')\n",
      "\n",
      "plt.grid(True)\n",
      "\n",
      "plt.savefig('tempo_por_N_iteracoes')\n",
      "\n",
      "plt"
     ],
     "language": "python",
     "metadata": {},
     "outputs": [
      {
       "metadata": {},
       "output_type": "pyout",
       "prompt_number": 13,
       "text": [
        "<module 'matplotlib.pyplot' from '/usr/lib/python2.7/dist-packages/matplotlib/pyplot.pyc'>"
       ]
      }
     ],
     "prompt_number": 13
    }
   ],
   "metadata": {}
  }
 ]
}