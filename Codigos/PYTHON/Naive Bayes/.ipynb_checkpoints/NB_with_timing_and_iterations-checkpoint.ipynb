{
 "metadata": {
  "name": "",
  "signature": "sha256:9ddfcc4f73847af5734bf2d6d627771c64b77019b353341f9a20c930e0ded25a"
 },
 "nbformat": 3,
 "nbformat_minor": 0,
 "worksheets": [
  {
   "cells": [
    {
     "cell_type": "code",
     "collapsed": false,
     "input": [
      "from pandas import DataFrame, Series \n",
      "import pandas as pd\n",
      "import numpy as np\n",
      "import matplotlib.pyplot as plt\n",
      "from sklearn.model_selection import cross_val_score\n",
      "from sklearn.naive_bayes import GaussianNB\n",
      "from datetime import datetime"
     ],
     "language": "python",
     "metadata": {},
     "outputs": [],
     "prompt_number": 2
    },
    {
     "cell_type": "code",
     "collapsed": false,
     "input": [
      "iteracoes = [1,100,200,300,400,500,600,700,800,900,1000]"
     ],
     "language": "python",
     "metadata": {},
     "outputs": [],
     "prompt_number": 3
    },
    {
     "cell_type": "code",
     "collapsed": false,
     "input": [
      "tempo_it = []\n",
      "scores_it = []"
     ],
     "language": "python",
     "metadata": {},
     "outputs": [],
     "prompt_number": 4
    },
    {
     "cell_type": "code",
     "collapsed": false,
     "input": [
      "names = ['SepalLength','SepalWidth','PetalLength','PetalWidth','Class']"
     ],
     "language": "python",
     "metadata": {},
     "outputs": [],
     "prompt_number": 5
    },
    {
     "cell_type": "code",
     "collapsed": false,
     "input": [
      "df = pd.read_csv('iris.data.csv', names=names)"
     ],
     "language": "python",
     "metadata": {},
     "outputs": [],
     "prompt_number": 9
    },
    {
     "cell_type": "code",
     "collapsed": false,
     "input": [
      "features = df.columns.difference(['Class'])"
     ],
     "language": "python",
     "metadata": {},
     "outputs": [],
     "prompt_number": 10
    },
    {
     "cell_type": "code",
     "collapsed": false,
     "input": [
      "x = df[features].values\n",
      "y = df['Class'].values"
     ],
     "language": "python",
     "metadata": {},
     "outputs": [],
     "prompt_number": 11
    },
    {
     "cell_type": "code",
     "collapsed": false,
     "input": [
      "for it in iteracoes:\n",
      "    \n",
      "    tempo = []\n",
      "    scores = []\n",
      "     \n",
      "    for i in range(it):\n",
      "        \n",
      "        t1 = datetime.now()\n",
      "\n",
      "        gnb = GaussianNB()\n",
      "\n",
      "        score = cross_val_score(gnb, x, y, scoring='accuracy', cv=10)\n",
      "\n",
      "        t2 = datetime.now()\n",
      "\n",
      "        if(t2.second-t1.second > 0):\n",
      "            tempo.append(float((t2.second-t1.second)*(10**6) + t2.microsecond-t1.microsecond)/1000)\n",
      "        else:\n",
      "            tempo.append(float(t2.microsecond-t1.microsecond)/1000)\n",
      "\n",
      "        scores.append(score.mean()*100)\n",
      "    \n",
      "    scores_it.append(np.mean(scores))\n",
      "    tempo_it.append(np.mean(tempo))"
     ],
     "language": "python",
     "metadata": {},
     "outputs": [],
     "prompt_number": 14
    },
    {
     "cell_type": "code",
     "collapsed": false,
     "input": [
      "plt.plot(np.float64(iteracoes), scores_it)\n",
      "\n",
      "plt.xlabel('Iteracoes')\n",
      "plt.ylabel('Pontuacoes (%)')\n",
      "\n",
      "plt.grid(True)\n",
      "\n",
      "plt.savefig('pontuacao_por_N_iteracoes.png')\n",
      "\n",
      "plt.show()"
     ],
     "language": "python",
     "metadata": {},
     "outputs": [],
     "prompt_number": 21
    },
    {
     "cell_type": "code",
     "collapsed": false,
     "input": [
      "plt.plot(np.float64(iteracoes), scores_it)\n",
      "\n",
      "plt.xlabel('Itera\u00e7\u00f5es')\n",
      "plt.ylabel('Tempo (ms)')\n",
      "\n",
      "plt.grid(True)\n",
      "\n",
      "plt.savefig('tempo_por_N_iteracoes.png')\n",
      "\n",
      "plt.show()"
     ],
     "language": "python",
     "metadata": {},
     "outputs": []
    }
   ],
   "metadata": {}
  }
 ]
}